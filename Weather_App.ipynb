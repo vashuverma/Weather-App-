{
  "nbformat": 4,
  "nbformat_minor": 0,
  "metadata": {
    "colab": {
      "provenance": [],
      "authorship_tag": "ABX9TyMbbrme2919se6YP8vBaZtE",
      "include_colab_link": true
    },
    "kernelspec": {
      "name": "python3",
      "display_name": "Python 3"
    },
    "language_info": {
      "name": "python"
    }
  },
  "cells": [
    {
      "cell_type": "markdown",
      "metadata": {
        "id": "view-in-github",
        "colab_type": "text"
      },
      "source": [
        "<a href=\"https://colab.research.google.com/github/vashuverma/Weather-App-/blob/main/Weather_App.ipynb\" target=\"_parent\"><img src=\"https://colab.research.google.com/assets/colab-badge.svg\" alt=\"Open In Colab\"/></a>"
      ]
    },
    {
      "cell_type": "code",
      "source": [
        "import requests\n",
        "\n",
        "def get_weather(city,api_key):\n",
        "    url=f'http://api.weatherapi.com/v1/current.json?key={api_key}&q={city}&aqi=no'\n",
        "    response=requests.get(url)\n",
        "    data=response.json()\n",
        "    if 'error' not in data:\n",
        "        weather_info = {\n",
        "            'city': data['location']['name'],\n",
        "            'temperature': data['current']['temp_c'],\n",
        "        }\n",
        "        return weather_info\n",
        "    else:\n",
        "        print(\"Error:\",data['error']['message'])\n",
        "        return None\n",
        "\n",
        "def main():\n",
        "    api_key='bdb8aee330554dc8b5c180521242103'\n",
        "    city=input(\"Enter a city: \")\n",
        "    weather=get_weather(city, api_key)\n",
        "    if weather:\n",
        "        print(f\"Weather in {weather['city']}:\")\n",
        "        print(f\"Temperature: {weather['temperature']}°C\")\n",
        "    else:\n",
        "        print(\"Failed to retrieve weather information.\")\n",
        "\n",
        "if __name__ == \"__main__\":\n",
        "    main()\n"
      ],
      "metadata": {
        "colab": {
          "base_uri": "https://localhost:8080/"
        },
        "id": "A3Y8xT8_P6IZ",
        "outputId": "21f56e09-0762-4186-f05d-30062a0f3588"
      },
      "execution_count": 13,
      "outputs": [
        {
          "output_type": "stream",
          "name": "stdout",
          "text": [
            "Enter a city: Mumbai\n",
            "Weather in Mumbai:\n",
            "Temperature: 31.0°F\n"
          ]
        }
      ]
    }
  ]
}